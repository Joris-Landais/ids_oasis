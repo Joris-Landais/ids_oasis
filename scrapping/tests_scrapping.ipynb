{
 "cells": [
  {
   "cell_type": "code",
   "execution_count": 3,
   "metadata": {},
   "outputs": [],
   "source": [
    "import bs4 \n",
    "from selenium import webdriver\n",
    "from time import sleep\n",
    "\n",
    "url = 'https://oasis.mines-paristech.fr/prod/bo/?targetProject=oasis_ensmp&public#codepage=ROOM_MANAGER_VIEW&view=timelineDay'\n",
    "\n",
    "browser = webdriver.Firefox()\n",
    "browser.get(url)\n",
    "\n",
    "sleep(20)\n",
    "\n",
    "res = browser.page_source\n",
    "oasis = bs4.BeautifulSoup(res,'html.parser')  \n",
    "\n",
    "\n",
    "\n",
    "#price = oasis.find_all('div', attrs={'class':\"fc-event-container\"})\n",
    "price = oasis.find_all('tbody')\n",
    "\n",
    "\n",
    "\n",
    "browser.close()"
   ]
  },
  {
   "cell_type": "code",
   "execution_count": 6,
   "metadata": {},
   "outputs": [],
   "source": [
    "table = oasis.find_all('table', class_=\"table-bordered\")[4]\n",
    "rows = table.find_all('tr')\n",
    "\n",
    "edt = {}\n",
    "\n",
    "for row in rows:\n",
    "    try:\n",
    "        room = []\n",
    "        room_id = row['data-resource-id']\n",
    "        events = row.find_all('a', class_=\"fc-timeline-event fc-h-event fc-event fc-start fc-end\")\n",
    "        for event in events:\n",
    "            data = event[\"title\"]\n",
    "            from_ = data[1:6]\n",
    "            to = data[7:12]\n",
    "            title = data[14:]\n",
    "            room.append({'title': title, 'from_': from_, 'to': to})\n",
    "        edt[room_id] = room\n",
    "    except:\n",
    "        pass"
   ]
  }
 ],
 "metadata": {
  "kernelspec": {
   "display_name": "base",
   "language": "python",
   "name": "python3"
  },
  "language_info": {
   "codemirror_mode": {
    "name": "ipython",
    "version": 3
   },
   "file_extension": ".py",
   "mimetype": "text/x-python",
   "name": "python",
   "nbconvert_exporter": "python",
   "pygments_lexer": "ipython3",
   "version": "3.9.5 (default, May 18 2021, 12:31:01) \n[Clang 10.0.0 ]"
  },
  "orig_nbformat": 4,
  "vscode": {
   "interpreter": {
    "hash": "3d597f4c481aa0f25dceb95d2a0067e73c0966dcbd003d741d821a7208527ecf"
   }
  }
 },
 "nbformat": 4,
 "nbformat_minor": 2
}
